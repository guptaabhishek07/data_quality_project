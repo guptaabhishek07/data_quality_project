{
 "cells": [
  {
   "cell_type": "code",
   "execution_count": 53,
   "id": "68f309e2-e273-4577-840a-55d563a5aa6c",
   "metadata": {},
   "outputs": [],
   "source": [
    "import sqlite3\n",
    "import json\n",
    "import pandas as pd\n",
    "import os\n",
    "from datetime import datetime"
   ]
  },
  {
   "cell_type": "code",
   "execution_count": 54,
   "id": "a7b1c045-7a70-41f2-ae38-bb6bba4db417",
   "metadata": {},
   "outputs": [],
   "source": [
    "# Folder containing cleaned JSONL files\n",
    "cleaned_folder = '/Users/abhishekkumar/Desktop/data_quality_project/cleaned_data'\n",
    "db_path = '/Users/abhishekkumar/Desktop/data_quality_project/data_quality.db'"
   ]
  },
  {
   "cell_type": "code",
   "execution_count": 55,
   "id": "e80af90b-6a7e-4d96-9358-4221aae42dbd",
   "metadata": {},
   "outputs": [],
   "source": [
    "conn = sqlite3.connect(db_path)\n",
    "cursor = conn.cursor()"
   ]
  },
  {
   "cell_type": "code",
   "execution_count": 56,
   "id": "e8126f19-aa51-43a1-bca0-6ad845359a24",
   "metadata": {},
   "outputs": [],
   "source": [
    "# ----------------- Create tables -----------------\n",
    "cursor.execute(\"\"\"\n",
    "CREATE TABLE IF NOT EXISTS news_events (\n",
    "    id INTEGER PRIMARY KEY AUTOINCREMENT,\n",
    "    data TEXT,\n",
    "    included TEXT\n",
    ");\n",
    "\"\"\")\n",
    "\n",
    "cursor.execute(\"\"\"\n",
    "CREATE TABLE IF NOT EXISTS data_quality_metrics (\n",
    "    id INTEGER PRIMARY KEY AUTOINCREMENT,\n",
    "    file_name TEXT,\n",
    "    metric_date DATE,\n",
    "    total_rows INTEGER,\n",
    "    missing_rows INTEGER,\n",
    "    duplicate_rows INTEGER,\n",
    "    invalid_headlines INTEGER,\n",
    "    future_dates INTEGER\n",
    ");\n",
    "\"\"\")\n",
    "\n",
    "conn.commit()"
   ]
  },
  {
   "cell_type": "code",
   "execution_count": 57,
   "id": "59b7ec2d-4053-485b-ad4d-605a4d64b098",
   "metadata": {},
   "outputs": [],
   "source": [
    "# ----------------- Helper: flatten JSON -----------------\n",
    "def flatten_json(file_path):\n",
    "    with open(file_path, 'r', encoding='utf-8') as f:\n",
    "        data = [json.loads(line) for line in f]\n",
    "\n",
    "    # Each row contains 'data' and 'included' as text\n",
    "    dfs = []\n",
    "    for d in data:\n",
    "        df_row = pd.DataFrame({\n",
    "            'data': [json.dumps(d.get('data'))],\n",
    "            'included': [json.dumps(d.get('included'))]\n",
    "        })\n",
    "        dfs.append(df_row)\n",
    "    \n",
    "    if dfs:\n",
    "        return pd.concat(dfs, ignore_index=True)\n",
    "    else:\n",
    "        return pd.DataFrame()\n"
   ]
  },
  {
   "cell_type": "code",
   "execution_count": 58,
   "id": "4fd07a0a-3214-41a4-aba6-0e4cc71e69d1",
   "metadata": {},
   "outputs": [],
   "source": [
    "# ----------------- Load files -----------------\n",
    "all_files = [f for f in os.listdir(cleaned_folder) if f.endswith('.jsonl')]\n",
    "\n",
    "for file_name in all_files:\n",
    "    file_path = os.path.join(cleaned_folder, file_name)\n",
    "    df = flatten_json(file_path)\n",
    "    \n",
    "    if df.empty:\n",
    "        print(f\"No relevant data in {file_name}, skipping.\")\n",
    "        continue\n",
    "    \n",
    "    # Insert news_events rows\n",
    "    df.to_sql('news_events', conn, if_exists='append', index=False)\n",
    "    \n",
    "    # ----------------- Compute simple DQ metrics -----------------\n",
    "    total_rows = df.shape[0]\n",
    "    total_missing = df.isnull().sum().sum()\n",
    "    duplicate_rows = df.duplicated().sum()\n",
    "    \n",
    "    future_dates = 0\n",
    "    invalid_headlines = 0\n",
    "    # Only compute if you have parsed data further, for now keep 0\n",
    "    \n",
    "    cursor.execute(\"\"\"\n",
    "    INSERT INTO data_quality_metrics\n",
    "    (file_name, metric_date, total_rows, missing_rows, duplicate_rows, invalid_headlines, future_dates)\n",
    "    VALUES (?, ?, ?, ?, ?, ?, ?)\n",
    "    \"\"\", (\n",
    "        file_name,\n",
    "        datetime.today().date(),\n",
    "        total_rows,\n",
    "        total_missing,\n",
    "        duplicate_rows,\n",
    "        invalid_headlines,\n",
    "        future_dates\n",
    "    ))\n",
    "\n",
    "conn.commit()"
   ]
  },
  {
   "cell_type": "code",
   "execution_count": 59,
   "id": "a4492188-649f-47dd-8798-444c2ec93400",
   "metadata": {},
   "outputs": [
    {
     "name": "stdout",
     "output_type": "stream",
     "text": [
      "✅ Phase 5 Complete!\n",
      "News Events Rows: 671717\n",
      "DQ Metrics Rows: 26\n"
     ]
    }
   ],
   "source": [
    "news_count = cursor.execute(\"SELECT COUNT(*) FROM news_events\").fetchone()[0]\n",
    "dq_count = cursor.execute(\"SELECT COUNT(*) FROM data_quality_metrics\").fetchone()[0]\n",
    "\n",
    "print(\"✅ Phase 5 Complete!\")\n",
    "print(f\"News Events Rows: {news_count}\")\n",
    "print(f\"DQ Metrics Rows: {dq_count}\")\n",
    "\n",
    "# Optional: close connection\n",
    "conn.close()\n"
   ]
  },
  {
   "cell_type": "code",
   "execution_count": null,
   "id": "f449f4e6-ff15-4e60-ad03-85518b43079f",
   "metadata": {},
   "outputs": [],
   "source": []
  },
  {
   "cell_type": "code",
   "execution_count": null,
   "id": "1ff103e2-e508-489f-bd5e-feeecd50cf19",
   "metadata": {},
   "outputs": [],
   "source": []
  },
  {
   "cell_type": "code",
   "execution_count": null,
   "id": "007611a8-3cb3-428b-a425-1a9ae6cededd",
   "metadata": {},
   "outputs": [],
   "source": []
  },
  {
   "cell_type": "code",
   "execution_count": null,
   "id": "ea4857e2-5cef-4dbd-920b-bc694f3baac5",
   "metadata": {},
   "outputs": [],
   "source": []
  },
  {
   "cell_type": "code",
   "execution_count": null,
   "id": "ca908fca-b449-4ad6-bf22-d98704189111",
   "metadata": {},
   "outputs": [],
   "source": []
  },
  {
   "cell_type": "code",
   "execution_count": null,
   "id": "7e3fdafe-f162-496a-88dd-96092dcc6ebf",
   "metadata": {},
   "outputs": [],
   "source": []
  },
  {
   "cell_type": "code",
   "execution_count": 31,
   "id": "148c5a09-6072-4573-b216-4b9a5b66d349",
   "metadata": {},
   "outputs": [],
   "source": []
  },
  {
   "cell_type": "code",
   "execution_count": null,
   "id": "5e229742-43e2-4ca0-91b8-bfbb3b813da3",
   "metadata": {},
   "outputs": [],
   "source": []
  },
  {
   "cell_type": "code",
   "execution_count": null,
   "id": "bd4fae52-08dd-4328-9aa4-3a7dcc10ef66",
   "metadata": {},
   "outputs": [],
   "source": []
  }
 ],
 "metadata": {
  "kernelspec": {
   "display_name": "Python [conda env:base] *",
   "language": "python",
   "name": "conda-base-py"
  },
  "language_info": {
   "codemirror_mode": {
    "name": "ipython",
    "version": 3
   },
   "file_extension": ".py",
   "mimetype": "text/x-python",
   "name": "python",
   "nbconvert_exporter": "python",
   "pygments_lexer": "ipython3",
   "version": "3.13.5"
  }
 },
 "nbformat": 4,
 "nbformat_minor": 5
}
