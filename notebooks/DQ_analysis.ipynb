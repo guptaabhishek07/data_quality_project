{
 "cells": [
  {
   "cell_type": "code",
   "execution_count": 3,
   "id": "d7ad63f5-d5b9-469c-a6d5-8f2161feb590",
   "metadata": {},
   "outputs": [
    {
     "name": "stdout",
     "output_type": "stream",
     "text": [
      "Loaded 24 DataFrames.\n"
     ]
    }
   ],
   "source": [
    "import os\n",
    "import json\n",
    "import pandas as pd\n",
    "\n",
    "data_folder = \"/Users/abhishekkumar/Desktop/data_quality_project/data1\"\n",
    "all_files = [f for f in os.listdir(data_folder) if f.endswith(('.json', '.jsonl'))]\n",
    "\n",
    "dfs = {}\n",
    "for f in all_files:\n",
    "    file_path = os.path.join(data_folder, f)\n",
    "    with open(file_path, 'r', encoding='utf-8') as file:\n",
    "        data = [json.loads(line) for line in file]\n",
    "    df = pd.json_normalize(data)\n",
    "    df_dedup = df.astype(str).drop_duplicates()  # deduplicate safely\n",
    "    dfs[f] = df_dedup\n",
    "\n",
    "print(f\"Loaded {len(dfs)} DataFrames.\")"
   ]
  },
  {
   "cell_type": "code",
   "execution_count": 14,
   "id": "c12bb8af-a518-4e40-9621-0979504f8b97",
   "metadata": {},
   "outputs": [
    {
     "data": {
      "text/html": [
       "<div>\n",
       "<style scoped>\n",
       "    .dataframe tbody tr th:only-of-type {\n",
       "        vertical-align: middle;\n",
       "    }\n",
       "\n",
       "    .dataframe tbody tr th {\n",
       "        vertical-align: top;\n",
       "    }\n",
       "\n",
       "    .dataframe thead th {\n",
       "        text-align: right;\n",
       "    }\n",
       "</style>\n",
       "<table border=\"1\" class=\"dataframe\">\n",
       "  <thead>\n",
       "    <tr style=\"text-align: right;\">\n",
       "      <th></th>\n",
       "      <th>file</th>\n",
       "      <th>total_missing</th>\n",
       "      <th>missing_per_column</th>\n",
       "      <th>duplicate_rows</th>\n",
       "    </tr>\n",
       "  </thead>\n",
       "  <tbody>\n",
       "    <tr>\n",
       "      <th>0</th>\n",
       "      <td>news_events_2025_07_07.00086.jsonl</td>\n",
       "      <td>0</td>\n",
       "      <td>{'data': 0, 'included': 0}</td>\n",
       "      <td>0</td>\n",
       "    </tr>\n",
       "    <tr>\n",
       "      <th>1</th>\n",
       "      <td>news_events_2025_07_07.00003.jsonl</td>\n",
       "      <td>0</td>\n",
       "      <td>{'data': 0, 'included': 0}</td>\n",
       "      <td>0</td>\n",
       "    </tr>\n",
       "    <tr>\n",
       "      <th>2</th>\n",
       "      <td>news_events_2025_07_07.00001.jsonl</td>\n",
       "      <td>0</td>\n",
       "      <td>{'data': 0, 'included': 0}</td>\n",
       "      <td>0</td>\n",
       "    </tr>\n",
       "    <tr>\n",
       "      <th>3</th>\n",
       "      <td>news_events_2025_07_07.00084.jsonl</td>\n",
       "      <td>0</td>\n",
       "      <td>{'data': 0, 'included': 0}</td>\n",
       "      <td>0</td>\n",
       "    </tr>\n",
       "    <tr>\n",
       "      <th>4</th>\n",
       "      <td>news_events_2025_07_07.00005.jsonl</td>\n",
       "      <td>0</td>\n",
       "      <td>{'data': 0, 'included': 0}</td>\n",
       "      <td>0</td>\n",
       "    </tr>\n",
       "  </tbody>\n",
       "</table>\n",
       "</div>"
      ],
      "text/plain": [
       "                                 file  total_missing  \\\n",
       "0  news_events_2025_07_07.00086.jsonl              0   \n",
       "1  news_events_2025_07_07.00003.jsonl              0   \n",
       "2  news_events_2025_07_07.00001.jsonl              0   \n",
       "3  news_events_2025_07_07.00084.jsonl              0   \n",
       "4  news_events_2025_07_07.00005.jsonl              0   \n",
       "\n",
       "           missing_per_column  duplicate_rows  \n",
       "0  {'data': 0, 'included': 0}               0  \n",
       "1  {'data': 0, 'included': 0}               0  \n",
       "2  {'data': 0, 'included': 0}               0  \n",
       "3  {'data': 0, 'included': 0}               0  \n",
       "4  {'data': 0, 'included': 0}               0  "
      ]
     },
     "execution_count": 14,
     "metadata": {},
     "output_type": "execute_result"
    }
   ],
   "source": [
    "dq_df.head()"
   ]
  },
  {
   "cell_type": "code",
   "execution_count": 4,
   "id": "2c088fde-697f-445d-a452-fd952568e125",
   "metadata": {},
   "outputs": [],
   "source": [
    "dq_dimensions = ['Accuracy', 'Completeness', 'Consistency', 'Uniqueness', 'Validity', 'Timeliness']"
   ]
  },
  {
   "cell_type": "code",
   "execution_count": 5,
   "id": "227125a5-f2b4-4a47-9202-6585104668b5",
   "metadata": {},
   "outputs": [],
   "source": [
    "dq_summary = []\n",
    "\n",
    "for file_name, df in dfs.items():\n",
    "    dq_report = {'file': file_name}\n",
    "\n",
    "    # Completeness\n",
    "    dq_report['total_missing'] = df.isnull().sum().sum()\n",
    "    dq_report['missing_per_column'] = df.isnull().sum().to_dict()\n",
    "\n",
    "    # Uniqueness\n",
    "    dq_report['duplicate_rows'] = df.duplicated().sum()\n",
    "\n",
    "    # Consistency example: cross-field check\n",
    "    # E.g., 'event_date' <= today\n",
    "    if 'event_date' in df.columns:\n",
    "        dq_report['future_dates'] = (pd.to_datetime(df['event_date'], errors='coerce') > pd.Timestamp.today()).sum()\n",
    "    \n",
    "    # Accuracy / Validity example: regex for headlines\n",
    "    if 'headline' in df.columns:\n",
    "        dq_report['headline_invalid'] = df['headline'].apply(lambda x: not bool(str(x).strip()) if pd.notnull(x) else True).sum()\n",
    "    \n",
    "    dq_summary.append(dq_report)"
   ]
  },
  {
   "cell_type": "code",
   "execution_count": null,
   "id": "45d600dc-529e-4d59-a8d0-b684db12e3a9",
   "metadata": {},
   "outputs": [],
   "source": []
  },
  {
   "cell_type": "code",
   "execution_count": null,
   "id": "170f9386-1721-4449-9c2e-93a4857ab4e8",
   "metadata": {},
   "outputs": [],
   "source": []
  }
 ],
 "metadata": {
  "kernelspec": {
   "display_name": "Python [conda env:base] *",
   "language": "python",
   "name": "conda-base-py"
  },
  "language_info": {
   "codemirror_mode": {
    "name": "ipython",
    "version": 3
   },
   "file_extension": ".py",
   "mimetype": "text/x-python",
   "name": "python",
   "nbconvert_exporter": "python",
   "pygments_lexer": "ipython3",
   "version": "3.13.5"
  }
 },
 "nbformat": 4,
 "nbformat_minor": 5
}
