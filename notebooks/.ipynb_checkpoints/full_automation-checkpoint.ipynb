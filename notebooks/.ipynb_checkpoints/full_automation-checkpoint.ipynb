{
 "cells": [
  {
   "cell_type": "code",
   "execution_count": 1,
   "id": "fbd0602c-4b62-422e-ade0-1c1185e5b6b9",
   "metadata": {},
   "outputs": [],
   "source": [
    "import json\n",
    "import pandas as pd\n",
    "import sqlite3\n",
    "from pathlib import Path\n",
    "from datetime import datetime\n",
    "import plotly.graph_objects as go"
   ]
  },
  {
   "cell_type": "code",
   "execution_count": 2,
   "id": "57f02780-49b7-40e1-a16f-c6e3e9ddcea1",
   "metadata": {},
   "outputs": [],
   "source": [
    "cleaned_folder = Path('/Users/abhishekkumar/Desktop/data_quality_project/cleaned_data')\n",
    "db_path = Path('/Users/abhishekkumar/Desktop/data_quality_project/data_quality.db')"
   ]
  },
  {
   "cell_type": "code",
   "execution_count": 3,
   "id": "72be1bbb-0bb4-4765-b369-206f2b2dde03",
   "metadata": {},
   "outputs": [],
   "source": [
    "conn = sqlite3.connect(db_path)\n",
    "cursor = conn.cursor()"
   ]
  },
  {
   "cell_type": "code",
   "execution_count": 4,
   "id": "e51d5c70-79af-4d5e-9983-4325e18201e3",
   "metadata": {},
   "outputs": [],
   "source": [
    "# Create tables if they don't exist\n",
    "cursor.execute(\"\"\"\n",
    "CREATE TABLE IF NOT EXISTS data_quality_metrics (\n",
    "    id INTEGER PRIMARY KEY AUTOINCREMENT,\n",
    "    file_name TEXT,\n",
    "    metric_date DATE,\n",
    "    total_rows INTEGER,\n",
    "    missing_rows INTEGER,\n",
    "    duplicate_rows INTEGER,\n",
    "    invalid_headlines INTEGER,\n",
    "    future_dates INTEGER\n",
    ")\n",
    "\"\"\")\n",
    "conn.commit()"
   ]
  },
  {
   "cell_type": "code",
   "execution_count": null,
   "id": "8db1d518-9314-4365-beb4-74cb590f5bb6",
   "metadata": {},
   "outputs": [
    {
     "name": "stderr",
     "output_type": "stream",
     "text": [
      "/var/folders/85/qrl4vzbd46197vwld0_y3cb80000gn/T/ipykernel_18522/2395618652.py:20: DeprecationWarning: The default date adapter is deprecated as of Python 3.12; see the sqlite3 documentation for suggested replacement recipes\n",
      "  cursor.execute(\"\"\"\n"
     ]
    }
   ],
   "source": [
    "# ---------- Recompute DQ metrics ----------\n",
    "dq_metrics_list = []\n",
    "\n",
    "for file_path in cleaned_folder.glob('*.jsonl'):\n",
    "    file_name = file_path.name\n",
    "    try:\n",
    "        with open(file_path, 'r', encoding='utf-8') as f:\n",
    "            data = [json.loads(line) for line in f]\n",
    "    except Exception as e:\n",
    "        print(f\"Error reading {file_name}: {e}\")\n",
    "        continue\n",
    "\n",
    "    total_rows = len(data)\n",
    "    missing_rows = sum(1 for d in data if not d.get('data') or not d.get('included'))\n",
    "    duplicate_rows = total_rows - len({json.dumps(d) for d in data})\n",
    "    invalid_headlines = sum(1 if (not bool(str(d.get('data')).strip()) if d.get('data') is not None else True) else 0 for d in data)\n",
    "    future_dates = 0  # optional, add if you have date fields\n",
    "\n",
    "    # Insert into DB\n",
    "    cursor.execute(\"\"\"\n",
    "        INSERT INTO data_quality_metrics\n",
    "        (file_name, metric_date, total_rows, missing_rows, duplicate_rows, invalid_headlines, future_dates)\n",
    "        VALUES (?, ?, ?, ?, ?, ?, ?)\n",
    "    \"\"\", (file_name, datetime.today().date(), total_rows, missing_rows, duplicate_rows, invalid_headlines, future_dates))\n",
    "    dq_metrics_list.append({\n",
    "        'file_name': file_name,\n",
    "        'total_rows': total_rows,\n",
    "        'missing_rows': missing_rows,\n",
    "        'duplicate_rows': duplicate_rows,\n",
    "        'invalid_headlines': invalid_headlines,\n",
    "        'future_dates': future_dates\n",
    "    })\n",
    "\n",
    "conn.commit()"
   ]
  },
  {
   "cell_type": "code",
   "execution_count": null,
   "id": "1a9213e6-7ac5-42bb-8139-5be57372fdba",
   "metadata": {},
   "outputs": [],
   "source": []
  }
 ],
 "metadata": {
  "kernelspec": {
   "display_name": "Python [conda env:base] *",
   "language": "python",
   "name": "conda-base-py"
  },
  "language_info": {
   "codemirror_mode": {
    "name": "ipython",
    "version": 3
   },
   "file_extension": ".py",
   "mimetype": "text/x-python",
   "name": "python",
   "nbconvert_exporter": "python",
   "pygments_lexer": "ipython3",
   "version": "3.13.5"
  }
 },
 "nbformat": 4,
 "nbformat_minor": 5
}
