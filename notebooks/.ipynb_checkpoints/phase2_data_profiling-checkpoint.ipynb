{
 "cells": [
  {
   "cell_type": "code",
   "execution_count": 29,
   "id": "09c75f7c-8446-46f6-976b-31068c4f121c",
   "metadata": {},
   "outputs": [
    {
     "name": "stdout",
     "output_type": "stream",
     "text": [
      "Requirement already satisfied: XlsxWriter in /opt/anaconda3/lib/python3.13/site-packages (3.2.5)\n"
     ]
    }
   ],
   "source": [
    "!pip install XlsxWriter"
   ]
  },
  {
   "cell_type": "code",
   "execution_count": 30,
   "id": "dff76aaf-f6f5-4f9c-9d4e-1e80e554b31a",
   "metadata": {},
   "outputs": [],
   "source": [
    "import os\n",
    "import json\n",
    "import pandas as pd\n",
    "import matplotlib.pyplot as plt\n",
    "import seaborn as sns\n",
    "import textwrap\n",
    "from collections import Counter\n",
    "import numpy as np"
   ]
  },
  {
   "cell_type": "code",
   "execution_count": 31,
   "id": "35e840cf-7ff1-4087-8cf3-31ebb7324232",
   "metadata": {},
   "outputs": [],
   "source": [
    "data_folder = \"/Users/abhishekkumar/Desktop/data_quality_project/data1\"\n",
    "profile_folder = os.path.join(\"..\", \"docs\", \"phase2_profiles\")\n",
    "os.makedirs(profile_folder, exist_ok=True)"
   ]
  },
  {
   "cell_type": "code",
   "execution_count": 32,
   "id": "456b98b3-61da-4a62-8ca2-6908dbd9f312",
   "metadata": {},
   "outputs": [
    {
     "name": "stdout",
     "output_type": "stream",
     "text": [
      "Files found (24): ['news_events_2025_07_07.00086.jsonl', 'news_events_2025_07_07.00003.jsonl', 'news_events_2025_07_07.00001.jsonl', 'news_events_2025_07_07.00084.jsonl', 'news_events_2025_07_07.00005.jsonl', 'news_events_2025_07_07.00080.jsonl', 'news_events_2025_07_07.00103.jsonl', 'news_events_2025_07_07.00078.jsonl', 'news_events_2025_07_07.00085.jsonl', 'news_events_2025_07_07.00000.jsonl', 'news_events_2025_07_07.00104.jsonl', 'news_events_2025_07_07.00002.jsonl', 'news_events_2025_07_07.00083.jsonl', 'news_events_2025_07_07.00102.jsonl', 'news_events_2025_07_07.00098.jsonl', 'news_events_2025_07_07.00058.jsonl', 'news_events_2025_07_07.00004.jsonl', 'news_events_2025_07_07.00076.jsonl', 'news_events_2025_07_07.00052.jsonl', 'news_events_2025_07_07.00050.jsonl', 'news_events_2025_07_07.00090.jsonl', 'news_events_2025_07_07.00077.jsonl', 'news_events_2025_07_07.00053.jsonl', 'news_events_2025_07_07.00093.jsonl']\n"
     ]
    }
   ],
   "source": [
    "all_files = [f for f in os.listdir(data_folder) if f.endswith(('.json', '.jsonl'))]\n",
    "print(f\"Files found ({len(all_files)}): {all_files}\")"
   ]
  },
  {
   "cell_type": "code",
   "execution_count": 33,
   "id": "756cfd95-688b-42ca-a616-ec7c8d1f9639",
   "metadata": {},
   "outputs": [
    {
     "name": "stdout",
     "output_type": "stream",
     "text": [
      "Loaded 24 datasets.\n"
     ]
    }
   ],
   "source": [
    "dfs = {}\n",
    "for f in all_files:\n",
    "    file_path = os.path.join(data_folder, f)\n",
    "    with open(file_path, 'r', encoding='utf-8') as file:\n",
    "        data = [json.loads(line) for line in file]\n",
    "    df = pd.json_normalize(data)\n",
    "    dfs[f] = df.astype(str).drop_duplicates()  # deduplicate safely\n",
    "\n",
    "print(f\"Loaded {len(dfs)} datasets.\")\n"
   ]
  },
  {
   "cell_type": "code",
   "execution_count": 34,
   "id": "f5f4b54e-e2e2-4720-8c9c-34b8c0712d52",
   "metadata": {},
   "outputs": [
    {
     "name": "stdout",
     "output_type": "stream",
     "text": [
      "Profiling report saved: ../docs/phase2_profiles/Data_Profiling_Report.xlsx\n"
     ]
    }
   ],
   "source": [
    "# -----------------------------\n",
    "# Profiling function\n",
    "# -----------------------------\n",
    "profiling_summary_list = []\n",
    "\n",
    "for file_name, df in dfs.items():\n",
    "    profile = {}\n",
    "    profile['file'] = file_name\n",
    "    profile['rows'] = df.shape[0]\n",
    "    profile['cols'] = df.shape[1]\n",
    "    \n",
    "    # -------------------------\n",
    "    # Sample records\n",
    "    # -------------------------\n",
    "    profile['sample_records'] = df.head(5).to_dict(orient='records')\n",
    "    \n",
    "    # -------------------------\n",
    "    # Missing values\n",
    "    # -------------------------\n",
    "    missing_per_col = df.isnull().sum()\n",
    "    profile['total_missing'] = missing_per_col.sum()\n",
    "    profile['missing_per_column'] = missing_per_col.to_dict()\n",
    "    \n",
    "    # -------------------------\n",
    "    # Unique values\n",
    "    # -------------------------\n",
    "    unique_per_col = df.nunique()\n",
    "    profile['unique_per_column'] = unique_per_col.to_dict()\n",
    "    \n",
    "    # -------------------------\n",
    "    # Numeric stats\n",
    "    # -------------------------\n",
    "    numeric_cols = df.select_dtypes(include=['int64','float64']).columns\n",
    "    if len(numeric_cols) > 0:\n",
    "        stats = df[numeric_cols].describe().to_dict()\n",
    "        profile['numeric_stats'] = stats\n",
    "        \n",
    "        # Outlier detection using IQR\n",
    "        outliers = {}\n",
    "        for col in numeric_cols:\n",
    "            Q1 = df[col].quantile(0.25)\n",
    "            Q3 = df[col].quantile(0.75)\n",
    "            IQR = Q3 - Q1\n",
    "            outliers[col] = df[(df[col] < Q1 - 1.5*IQR) | (df[col] > Q3 + 1.5*IQR)][col].count()\n",
    "        profile['numeric_outliers_count'] = outliers\n",
    "    \n",
    "    # -------------------------\n",
    "    # Text length stats\n",
    "    # -------------------------\n",
    "    text_cols = df.select_dtypes(include='object').columns\n",
    "    text_length_stats = {}\n",
    "    categorical_anomalies = {}\n",
    "    for col in text_cols:\n",
    "        lengths = df[col].dropna().apply(lambda x: len(str(x)))\n",
    "        text_length_stats[col] = {\n",
    "            'min_length': lengths.min(),\n",
    "            'max_length': lengths.max(),\n",
    "            'mean_length': lengths.mean(),\n",
    "            'std_length': lengths.std()\n",
    "        }\n",
    "        \n",
    "        # Detect anomalies: inconsistent capitalization or likely typos\n",
    "        value_counts = df[col].value_counts()\n",
    "        if len(value_counts) > 0:\n",
    "            anomalies = [v for v in value_counts.index if sum(1 for c in v if c.isupper()) > 3 or len(v) > 100]\n",
    "            if anomalies:\n",
    "                categorical_anomalies[col] = anomalies[:10]  # show top 10\n",
    "    profile['text_length_stats'] = text_length_stats\n",
    "    profile['categorical_anomalies'] = categorical_anomalies\n",
    "    \n",
    "    profiling_summary_list.append(profile)\n",
    "    \n",
    "    # -------------------------\n",
    "    # Plots\n",
    "    # -------------------------\n",
    "    for col in df.columns[:2]:  # first 2 columns only\n",
    "        plt.figure(figsize=(8,5))\n",
    "        if df[col].dtype in ['int64','float64']:\n",
    "            sns.histplot(df[col], bins=30, kde=True)\n",
    "        else:\n",
    "            top_counts = df[col].value_counts().nlargest(10)\n",
    "            top_labels = [str(x)[:50] + '...' if len(str(x)) > 50 else str(x) for x in top_counts.index]\n",
    "            sns.barplot(x=top_counts.values, y=top_labels)\n",
    "        \n",
    "        title_text = f\"{file_name} - {col} Distribution\"\n",
    "        title_wrapped = \"\\n\".join(textwrap.wrap(title_text, width=70))\n",
    "        plt.title(title_wrapped, usetex=False)\n",
    "        try:\n",
    "            plt.tight_layout()\n",
    "        except:\n",
    "            plt.subplots_adjust(left=0.2, right=0.9, top=0.9, bottom=0.2)\n",
    "        \n",
    "        safe_file_name = f\"{file_name}_{col}_dist.png\".replace('/', '_').replace('\\\\', '_')\n",
    "        plt.savefig(os.path.join(profile_folder, safe_file_name))\n",
    "        plt.close()\n",
    "\n",
    "# -----------------------------\n",
    "# Consolidate profiling into Excel\n",
    "# -----------------------------\n",
    "try:\n",
    "    import xlsxwriter\n",
    "    report_path = os.path.join(profile_folder, \"Data_Profiling_Report.xlsx\")\n",
    "    \n",
    "    # Convert each profile into a sheet\n",
    "    with pd.ExcelWriter(report_path, engine='xlsxwriter') as writer:\n",
    "        for p in profiling_summary_list:\n",
    "            df_sheet = pd.DataFrame.from_dict({\n",
    "                'column': list(p['missing_per_column'].keys()),\n",
    "                'missing_count': list(p['missing_per_column'].values()),\n",
    "                'unique_count': [p['unique_per_column'][c] for c in p['missing_per_column'].keys()]\n",
    "            })\n",
    "            df_sheet.to_excel(writer, sheet_name=p['file'][:31], index=False)\n",
    "    print(f\"Profiling report saved: {report_path}\")\n",
    "except ModuleNotFoundError:\n",
    "    print(\"Please install xlsxwriter: pip install xlsxwriter\")\n"
   ]
  },
  {
   "cell_type": "code",
   "execution_count": 41,
   "id": "a9c1061e-a24c-4411-9f95-8012cc49c41c",
   "metadata": {},
   "outputs": [],
   "source": [
    "with pd.ExcelWriter(report_path, engine='xlsxwriter') as writer:\n",
    "    for sheet_name, df_sheet in excel_sheets.items():\n",
    "        df_sheet.to_excel(writer, sheet_name=sheet_name[:31], index=False)\n"
   ]
  },
  {
   "cell_type": "code",
   "execution_count": 42,
   "id": "6eba8ae6-a115-4d00-90ee-4b9933c75bdf",
   "metadata": {},
   "outputs": [
    {
     "name": "stdout",
     "output_type": "stream",
     "text": [
      "True\n"
     ]
    }
   ],
   "source": [
    "import os\n",
    "print(os.path.exists(report_path))  # Should return True if the file exists"
   ]
  },
  {
   "cell_type": "code",
   "execution_count": 81,
   "id": "fe61726e-6a44-4b5f-bc5b-4b34bb71cd6a",
   "metadata": {},
   "outputs": [
    {
     "name": "stdout",
     "output_type": "stream",
     "text": [
      "                                      file          rows  cols  \\\n",
      "count                                   24     24.000000  24.0   \n",
      "unique                                  24           NaN   NaN   \n",
      "top     news_events_2025_07_07.00086.jsonl           NaN   NaN   \n",
      "freq                                     1           NaN   NaN   \n",
      "mean                                   NaN  25853.583333   2.0   \n",
      "std                                    NaN    386.277431   0.0   \n",
      "min                                    NaN  25374.000000   2.0   \n",
      "25%                                    NaN  25537.000000   2.0   \n",
      "50%                                    NaN  25761.500000   2.0   \n",
      "75%                                    NaN  26140.750000   2.0   \n",
      "max                                    NaN  26837.000000   2.0   \n",
      "\n",
      "                                           sample_records  total_missing  \\\n",
      "count                                                  24           24.0   \n",
      "unique                                                 24            NaN   \n",
      "top     [{'data': '[{'id': '49c2548f-7a5b-45e3-9bbc-84...            NaN   \n",
      "freq                                                    1            NaN   \n",
      "mean                                                  NaN            0.0   \n",
      "std                                                   NaN            0.0   \n",
      "min                                                   NaN            0.0   \n",
      "25%                                                   NaN            0.0   \n",
      "50%                                                   NaN            0.0   \n",
      "75%                                                   NaN            0.0   \n",
      "max                                                   NaN            0.0   \n",
      "\n",
      "                missing_per_column                   unique_per_column  \\\n",
      "count                           24                                  24   \n",
      "unique                           1                                  24   \n",
      "top     {'data': 0, 'included': 0}  {'data': 26131, 'included': 25525}   \n",
      "freq                            24                                   1   \n",
      "mean                           NaN                                 NaN   \n",
      "std                            NaN                                 NaN   \n",
      "min                            NaN                                 NaN   \n",
      "25%                            NaN                                 NaN   \n",
      "50%                            NaN                                 NaN   \n",
      "75%                            NaN                                 NaN   \n",
      "max                            NaN                                 NaN   \n",
      "\n",
      "                                        text_length_stats  \\\n",
      "count                                                  24   \n",
      "unique                                                 24   \n",
      "top     {'data': {'min_length': 1059, 'max_length': 21...   \n",
      "freq                                                    1   \n",
      "mean                                                  NaN   \n",
      "std                                                   NaN   \n",
      "min                                                   NaN   \n",
      "25%                                                   NaN   \n",
      "50%                                                   NaN   \n",
      "75%                                                   NaN   \n",
      "max                                                   NaN   \n",
      "\n",
      "                                    categorical_anomalies  \n",
      "count                                                  24  \n",
      "unique                                                 24  \n",
      "top     {'data': ['[{'id': '49c2548f-7a5b-45e3-9bbc-84...  \n",
      "freq                                                    1  \n",
      "mean                                                  NaN  \n",
      "std                                                   NaN  \n",
      "min                                                   NaN  \n",
      "25%                                                   NaN  \n",
      "50%                                                   NaN  \n",
      "75%                                                   NaN  \n",
      "max                                                   NaN  \n"
     ]
    }
   ],
   "source": [
    "dq_df = pd.DataFrame(profiling_summary_list)\n",
    "#print(dq_df.info())\n",
    "print(dq_df.describe(include=\"all\"))"
   ]
  },
  {
   "cell_type": "code",
   "execution_count": 43,
   "id": "14774914-d8bf-4cc9-afd9-37d83fb7e225",
   "metadata": {},
   "outputs": [
    {
     "name": "stdout",
     "output_type": "stream",
     "text": [
      "24\n",
      "dict_keys(['file', 'rows', 'cols', 'sample_records', 'total_missing', 'missing_per_column', 'unique_per_column', 'text_length_stats', 'categorical_anomalies'])\n"
     ]
    }
   ],
   "source": [
    "print(len(profiling_summary_list))  # should match number of files\n",
    "print(profiling_summary_list[0].keys())  # should include rows, cols, missing_per_column, unique_per_column, etc."
   ]
  },
  {
   "cell_type": "code",
   "execution_count": 44,
   "id": "2d90768a-c811-4e8b-a45b-50e65fdf2532",
   "metadata": {
    "scrolled": true
   },
   "outputs": [
    {
     "data": {
      "text/plain": [
       "['news_events_2025_07_07.00058.jsonl_data_dist.png',\n",
       " 'news_events_2025_07_07.00001.jsonl_included_dist.png',\n",
       " 'news_events_2025_07_07.00052.jsonl_included_dist.png',\n",
       " 'news_events_2025_07_07.00005.jsonl_included_dist.png',\n",
       " 'news_events_2025_07_07.00085.jsonl_included_dist.png',\n",
       " 'news_events_2025_07_07.00103.jsonl_included_dist.png',\n",
       " 'news_events_2025_07_07.00086.jsonl_included_dist.png',\n",
       " 'news_events_2025_07_07.00002.jsonl_data_dist.png',\n",
       " 'news_events_2025_07_07.00053.jsonl_data_dist.png',\n",
       " 'news_events_2025_07_07.00003.jsonl_data_dist.png',\n",
       " 'news_events_2025_07_07.00052.jsonl_data_dist.png',\n",
       " 'news_events_2025_07_07.00000.jsonl_data_dist.png',\n",
       " 'news_events_2025_07_07.00077.jsonl_included_dist.png',\n",
       " 'news_events_2025_07_07.00050.jsonl_data_dist.png',\n",
       " 'news_events_2025_07_07.00001.jsonl_data_dist.png',\n",
       " 'news_events_2025_07_07.00078.jsonl_included_dist.png',\n",
       " 'news_events_2025_07_07.00104.jsonl_included_dist.png',\n",
       " 'news_events_2025_07_07.00005.jsonl_data_dist.png',\n",
       " 'news_events_2025_07_07.00002.jsonl_included_dist.png',\n",
       " 'news_events_2025_07_07.00004.jsonl_data_dist.png',\n",
       " 'news_events_2025_07_07.00058.jsonl_included_dist.png',\n",
       " 'news_events_2025_07_07.00102.jsonl_included_dist.png',\n",
       " 'news_events_2025_07_07.00084.jsonl_included_dist.png',\n",
       " 'news_events_2025_07_07.00004.jsonl_included_dist.png',\n",
       " 'news_events_2025_07_07.00098.jsonl_included_dist.png',\n",
       " 'Phase2_Profiling_Summary.xlsx',\n",
       " 'news_events_2025_07_07.00080.jsonl_included_dist.png',\n",
       " 'news_events_2025_07_07.00093.jsonl_data_dist.png',\n",
       " 'news_events_2025_07_07.00053.jsonl_included_dist.png',\n",
       " 'news_events_2025_07_07.00078.jsonl_data_dist.png',\n",
       " 'news_events_2025_07_07.00000.jsonl_included_dist.png',\n",
       " 'news_events_2025_07_07.00090.jsonl_data_dist.png',\n",
       " 'news_events_2025_07_07.00093.jsonl_included_dist.png',\n",
       " 'news_events_2025_07_07.00003.jsonl_included_dist.png',\n",
       " 'news_events_2025_07_07.00077.jsonl_data_dist.png',\n",
       " 'news_events_2025_07_07.00084.jsonl_data_dist.png',\n",
       " 'news_events_2025_07_07.00090.jsonl_included_dist.png',\n",
       " 'news_events_2025_07_07.00085.jsonl_data_dist.png',\n",
       " 'Data_Profiling_Report.xlsx',\n",
       " 'news_events_2025_07_07.00076.jsonl_data_dist.png',\n",
       " 'news_events_2025_07_07.00083.jsonl_included_dist.png',\n",
       " 'news_events_2025_07_07.00086.jsonl_data_dist.png',\n",
       " 'news_events_2025_07_07.00102.jsonl_data_dist.png',\n",
       " 'news_events_2025_07_07.00050.jsonl_included_dist.png',\n",
       " 'news_events_2025_07_07.00103.jsonl_data_dist.png',\n",
       " 'news_events_2025_07_07.00098.jsonl_data_dist.png',\n",
       " 'news_events_2025_07_07.00080.jsonl_data_dist.png',\n",
       " 'news_events_2025_07_07.00104.jsonl_data_dist.png',\n",
       " 'news_events_2025_07_07.00076.jsonl_included_dist.png',\n",
       " 'news_events_2025_07_07.00083.jsonl_data_dist.png']"
      ]
     },
     "execution_count": 44,
     "metadata": {},
     "output_type": "execute_result"
    }
   ],
   "source": [
    "os.listdir(profile_folder)"
   ]
  },
  {
   "cell_type": "code",
   "execution_count": 45,
   "id": "a6b77722-96b1-4a4e-bb0d-5418e21a6b6a",
   "metadata": {},
   "outputs": [
    {
     "name": "stdout",
     "output_type": "stream",
     "text": [
      "True\n"
     ]
    },
    {
     "data": {
      "text/html": [
       "<div>\n",
       "<style scoped>\n",
       "    .dataframe tbody tr th:only-of-type {\n",
       "        vertical-align: middle;\n",
       "    }\n",
       "\n",
       "    .dataframe tbody tr th {\n",
       "        vertical-align: top;\n",
       "    }\n",
       "\n",
       "    .dataframe thead th {\n",
       "        text-align: right;\n",
       "    }\n",
       "</style>\n",
       "<table border=\"1\" class=\"dataframe\">\n",
       "  <thead>\n",
       "    <tr style=\"text-align: right;\">\n",
       "      <th></th>\n",
       "      <th>Column</th>\n",
       "      <th>Missing Values</th>\n",
       "      <th>Unique Values</th>\n",
       "      <th>Min Text Length</th>\n",
       "      <th>Max Text Length</th>\n",
       "      <th>Mean Text Length</th>\n",
       "      <th>Std Text Length</th>\n",
       "      <th>Plot Path</th>\n",
       "    </tr>\n",
       "  </thead>\n",
       "  <tbody>\n",
       "    <tr>\n",
       "      <th>0</th>\n",
       "      <td>data</td>\n",
       "      <td>0</td>\n",
       "      <td>26131</td>\n",
       "      <td>1059</td>\n",
       "      <td>2122</td>\n",
       "      <td>1356.621675</td>\n",
       "      <td>115.384072</td>\n",
       "      <td>../docs/phase2_profiles/news_events_2025_07_07...</td>\n",
       "    </tr>\n",
       "    <tr>\n",
       "      <th>1</th>\n",
       "      <td>included</td>\n",
       "      <td>0</td>\n",
       "      <td>25525</td>\n",
       "      <td>535</td>\n",
       "      <td>67162</td>\n",
       "      <td>2741.469098</td>\n",
       "      <td>2259.563537</td>\n",
       "      <td>../docs/phase2_profiles/news_events_2025_07_07...</td>\n",
       "    </tr>\n",
       "  </tbody>\n",
       "</table>\n",
       "</div>"
      ],
      "text/plain": [
       "     Column  Missing Values  Unique Values  Min Text Length  Max Text Length  \\\n",
       "0      data               0          26131             1059             2122   \n",
       "1  included               0          25525              535            67162   \n",
       "\n",
       "   Mean Text Length  Std Text Length  \\\n",
       "0       1356.621675       115.384072   \n",
       "1       2741.469098      2259.563537   \n",
       "\n",
       "                                           Plot Path  \n",
       "0  ../docs/phase2_profiles/news_events_2025_07_07...  \n",
       "1  ../docs/phase2_profiles/news_events_2025_07_07...  "
      ]
     },
     "execution_count": 45,
     "metadata": {},
     "output_type": "execute_result"
    }
   ],
   "source": [
    "report_path = os.path.join(profile_folder, \"Phase2_Profiling_Summary.xlsx\")\n",
    "print(os.path.exists(report_path))  # should be True\n",
    "pd.read_excel(report_path).head()\n"
   ]
  },
  {
   "cell_type": "code",
   "execution_count": 47,
   "id": "720055b9-1416-4e0c-9cb2-657e28a2d915",
   "metadata": {},
   "outputs": [
    {
     "name": "stdout",
     "output_type": "stream",
     "text": [
      "['news_events_2025_07_07.00086.jsonl', 'news_events_2025_07_07.00003.jsonl', 'news_events_2025_07_07.00001.jsonl', 'news_events_2025_07_07.00084.jsonl', 'news_events_2025_07_07.00005.jsonl', 'news_events_2025_07_07.00080.jsonl', 'news_events_2025_07_07.00103.jsonl', 'news_events_2025_07_07.00078.jsonl', 'news_events_2025_07_07.00085.jsonl', 'news_events_2025_07_07.00000.jsonl', 'news_events_2025_07_07.00104.jsonl', 'news_events_2025_07_07.00002.jsonl', 'news_events_2025_07_07.00083.jsonl', 'news_events_2025_07_07.00102.jsonl', 'news_events_2025_07_07.00098.jsonl', 'news_events_2025_07_07.00058.jsonl', 'news_events_2025_07_07.00004.jsonl', 'news_events_2025_07_07.00076.jsonl', 'news_events_2025_07_07.00052.jsonl', 'news_events_2025_07_07.00050.jsonl', 'news_events_2025_07_07.00090.jsonl', 'news_events_2025_07_07.00077.jsonl', 'news_events_2025_07_07.00053.jsonl', 'news_events_2025_07_07.00093.jsonl']\n"
     ]
    }
   ],
   "source": [
    "print(list(dfs.keys()))"
   ]
  },
  {
   "cell_type": "code",
   "execution_count": 48,
   "id": "f1286a31-3e5e-468c-a700-408533c08342",
   "metadata": {},
   "outputs": [
    {
     "name": "stdout",
     "output_type": "stream",
     "text": [
      "['news_events_2025_07_07.00086.jsonl', 'news_events_2025_07_07.00003.jsonl', 'news_events_2025_07_07.00001.jsonl', 'news_events_2025_07_07.00084.jsonl', 'news_events_2025_07_07.00005.jsonl', 'news_events_2025_07_07.00080.jsonl', 'news_events_2025_07_07.00103.jsonl', 'news_events_2025_07_07.00078.jsonl', 'news_events_2025_07_07.00085.jsonl', 'news_events_2025_07_07.00000.jsonl', 'news_events_2025_07_07.00104.jsonl', 'news_events_2025_07_07.00002.jsonl', 'news_events_2025_07_07.00083.jsonl', 'news_events_2025_07_07.00102.jsonl', 'dataset_summary.ipynb', 'news_events_2025_07_07.00098.jsonl', 'news_events_2025_07_07.00058.jsonl', 'news_events_2025_07_07.00004.jsonl', 'news_events_2025_07_07.00076.jsonl', 'news_events_2025_07_07.00052.jsonl', 'news_events_2025_07_07.00050.jsonl', 'news_events_2025_07_07.00090.jsonl', '.ipynb_checkpoints', 'news_events_2025_07_07.00077.jsonl', 'news_events_2025_07_07.00053.jsonl', 'news_events_2025_07_07.00093.jsonl']\n"
     ]
    }
   ],
   "source": [
    "import os\n",
    "print(os.listdir(data_folder))"
   ]
  },
  {
   "cell_type": "code",
   "execution_count": 49,
   "id": "b21f3035-3592-4abb-b80b-864d59a181ce",
   "metadata": {},
   "outputs": [
    {
     "name": "stdout",
     "output_type": "stream",
     "text": [
      "['news_events_2025_07_07.00086.jsonl', 'news_events_2025_07_07.00003.jsonl', 'news_events_2025_07_07.00001.jsonl', 'news_events_2025_07_07.00084.jsonl', 'news_events_2025_07_07.00005.jsonl', 'news_events_2025_07_07.00080.jsonl', 'news_events_2025_07_07.00103.jsonl', 'news_events_2025_07_07.00078.jsonl', 'news_events_2025_07_07.00085.jsonl', 'news_events_2025_07_07.00000.jsonl', 'news_events_2025_07_07.00104.jsonl', 'news_events_2025_07_07.00002.jsonl', 'news_events_2025_07_07.00083.jsonl', 'news_events_2025_07_07.00102.jsonl', 'news_events_2025_07_07.00098.jsonl', 'news_events_2025_07_07.00058.jsonl', 'news_events_2025_07_07.00004.jsonl', 'news_events_2025_07_07.00076.jsonl', 'news_events_2025_07_07.00052.jsonl', 'news_events_2025_07_07.00050.jsonl', 'news_events_2025_07_07.00090.jsonl', 'news_events_2025_07_07.00077.jsonl', 'news_events_2025_07_07.00053.jsonl', 'news_events_2025_07_07.00093.jsonl']\n"
     ]
    }
   ],
   "source": [
    "print(list(dfs.keys()))"
   ]
  },
  {
   "cell_type": "code",
   "execution_count": null,
   "id": "7bddc817-819d-4d68-abf1-28bd6f1ab618",
   "metadata": {},
   "outputs": [],
   "source": []
  },
  {
   "cell_type": "code",
   "execution_count": null,
   "id": "2a77cb2b-b300-4313-9eda-1610cf8d20ad",
   "metadata": {},
   "outputs": [],
   "source": []
  },
  {
   "cell_type": "code",
   "execution_count": null,
   "id": "05436166-419d-48e1-82d9-aaede3a5013f",
   "metadata": {},
   "outputs": [],
   "source": []
  },
  {
   "cell_type": "code",
   "execution_count": null,
   "id": "5819c926-acf2-44e8-8d3b-d554c498fea9",
   "metadata": {},
   "outputs": [],
   "source": []
  },
  {
   "cell_type": "code",
   "execution_count": null,
   "id": "63cd926a-5ef8-47d5-ae81-c1913b8be6bc",
   "metadata": {},
   "outputs": [],
   "source": []
  },
  {
   "cell_type": "code",
   "execution_count": null,
   "id": "4d68e704-aa1f-40ed-82eb-a1fe2a59b046",
   "metadata": {},
   "outputs": [],
   "source": []
  }
 ],
 "metadata": {
  "kernelspec": {
   "display_name": "Python [conda env:base] *",
   "language": "python",
   "name": "conda-base-py"
  },
  "language_info": {
   "codemirror_mode": {
    "name": "ipython",
    "version": 3
   },
   "file_extension": ".py",
   "mimetype": "text/x-python",
   "name": "python",
   "nbconvert_exporter": "python",
   "pygments_lexer": "ipython3",
   "version": "3.13.5"
  }
 },
 "nbformat": 4,
 "nbformat_minor": 5
}
